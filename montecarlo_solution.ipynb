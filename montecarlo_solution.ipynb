{
 "cells": [
  {
   "cell_type": "markdown",
   "metadata": {},
   "source": [
    "# Localization\n",
    "\n",
    "![](https://docs.google.com/drawings/d/e/2PACX-1vQ2SQeGNXvVybIzZW9Bp2cBFE2wQyrzh7vf6MCxzS-JAQvw-97nyyafxblGoWOAL5T8j9LwqcDWgXFV/pub?w=1121&h=204)"
   ]
  },
  {
   "cell_type": "markdown",
   "metadata": {},
   "source": [
    "## Evironment Setup"
   ]
  },
  {
   "cell_type": "code",
   "execution_count": null,
   "metadata": {},
   "outputs": [],
   "source": [
    "# import libraries\n",
    "import numpy as np\n",
    "from scipy.stats import norm\n",
    "import matplotlib.pyplot as plt\n",
    "import matplotlib.image as mpimg\n",
    "%matplotlib inline\n",
    "\n",
    "\n",
    "# Setup simulated world\n",
    "n = 200 # the number of bins in our approximation\n",
    "X = range(n) # used for graphing purposes\n",
    "width = 1560 # the real length of the hallway\n",
    "env_map = np.array([280.5, 480.5, 1280.5]) # the locations of the doors in the hallway\n",
    "\n",
    "# motion parameters\n",
    "x_noise = 3 # specifies how noisy our motion is (higher = noisier)\n",
    "kernel_size = 6 # how big our \"smoother\" is\n",
    "kernel = norm.pdf(np.arange(-kernel_size, kernel_size+1), scale=x_noise) # create \"smoother\"\n",
    "kernel /= np.sum(kernel) # normalize \"smoother\" so sum is 1\n",
    "\n",
    "# measurement parameters\n",
    "z_noise = 0.006 # represents how noisy our door senser is (higher = noisier)\n",
    "sensor_spread = 25 # simulation parameter. Represents how close to a door you have to be to sense it\n",
    "\n",
    "# read image files\n",
    "robot_img = mpimg.imread('robot.png')\n",
    "doors_img = mpimg.imread('doors.png')\n",
    "(h, w, _) = robot_img.shape\n",
    "\n",
    "# function to generate a noisy measurement\n",
    "def get_measurement(true_state):\n",
    "    v = np.min(abs(env_map - true_state))\n",
    "    return norm.pdf(v, scale=sensor_spread) + np.random.normal(scale=z_noise)"
   ]
  },
  {
   "cell_type": "markdown",
   "metadata": {},
   "source": [
    "## Prediction Step\n",
    "Implement the \"move\" step by shifting grid cells and then convolving with kernel. `prior` is the prior probability distribution (the grid cells to shift), `env_map` is a list of door locations, and `u` is how many units you shifted left or right (negative is left, positive is right)."
   ]
  },
  {
   "cell_type": "code",
   "execution_count": null,
   "metadata": {},
   "outputs": [],
   "source": [
    "def predict(prior, env_map, u):\n",
    "    # calculate how many grid cells to shift by\n",
    "    i = int(u*n/width + 0.5)\n",
    "    # use np.roll to shift\n",
    "    posterior = np.roll(prior, i)\n",
    "    # since roll shifts cyclically (elements at the end wrap around to the beginning)\n",
    "    # we need to overwrite the wraparound elements with 0\n",
    "    if i > 0:\n",
    "        # if we moved right, overwrite the first i elements\n",
    "        posterior[0:i] = 0\n",
    "    else:\n",
    "        # if we moved left, ovewrite the last i elements\n",
    "        posterior[i:] = 0\n",
    "    # convolve to smoothed grid cells\n",
    "    posterior = np.convolve(posterior, kernel, mode='same')\n",
    "    return posterior"
   ]
  },
  {
   "cell_type": "markdown",
   "metadata": {},
   "source": [
    "## Correction Step\n",
    "\n",
    "Implement the \"sense\" step by computing the measurement probability (the smoother(expected - measurement)) for each cell, multiplying with the measurement probability with the prior, and then normalizing so that the grid cells sum to 1. Hint use `norm.pdf(expected - z, scale=z_noise)` as the \"smoother\" function. "
   ]
  },
  {
   "cell_type": "code",
   "execution_count": null,
   "metadata": {},
   "outputs": [],
   "source": [
    "# returns expected measurement at position x given env_map.\n",
    "# use this function to help calculate measurement_probability\n",
    "def get_expected(env_map, x):\n",
    "    return norm.pdf(np.min(abs(env_map - x)), scale=sensor_spread)\n",
    "\n",
    "# env_map is a list of door locations\n",
    "# z is a value from 0 to 1 returned from the door sensor\n",
    "def measurement_probability(env_map, z):\n",
    "    # create empty array\n",
    "    prob = np.zeros(n)\n",
    "    \n",
    "    # for each bin in the histogram\n",
    "    for i in range(prob.size):\n",
    "        # compute the position this bin represents\n",
    "        x = float(i)/n * width + 0.5\n",
    "        # compute the expected measurement at this location\n",
    "        expected = get_expected(env_map, x)\n",
    "        # compute the measurement probability\n",
    "        prob[i] = norm.pdf(expected - z, scale=z_noise)\n",
    "\n",
    "    return prob\n",
    "\n",
    "# prior is your grid cells\n",
    "# pror is list returned from measurement probability\n",
    "def correct(prior, prob):\n",
    "    # multiply corresponding elements\n",
    "    posterior = np.multiply(prior, prob)\n",
    "    # normalize so probabilities sum to 1\n",
    "    posterior = posterior / np.sum(posterior)\n",
    "    return posterior"
   ]
  },
  {
   "cell_type": "markdown",
   "metadata": {},
   "source": [
    "## Simulation"
   ]
  },
  {
   "cell_type": "markdown",
   "metadata": {},
   "source": [
    "### Initial Belief"
   ]
  },
  {
   "cell_type": "code",
   "execution_count": null,
   "metadata": {
    "scrolled": false
   },
   "outputs": [],
   "source": [
    "# belief is the list of grid cells\n",
    "belief = np.array([1./n]*n)\n",
    "# true state is the actual location of the robot\n",
    "true_state = 180.5\n",
    "\n",
    "f, (ax1, ax2) = plt.subplots(2, 1, figsize = (15,5))\n",
    "x = int(true_state - w/2 + 0.5)\n",
    "world = np.copy(doors_img)\n",
    "world[70:70+h,x:x+w][robot_img[:,:,3]==1] = robot_img[robot_img[:,:,3]==1]\n",
    "ax1.imshow(world)\n",
    "ax2.set_ylim([0, 0.25]); ax2.set_xlim([0, n]); ax2.bar(X, belief)"
   ]
  },
  {
   "cell_type": "markdown",
   "metadata": {},
   "source": [
    "### Move right"
   ]
  },
  {
   "cell_type": "code",
   "execution_count": null,
   "metadata": {},
   "outputs": [],
   "source": [
    "u = 100\n",
    "true_state += u\n",
    "belief = predict(belief, env_map, u + np.random.normal(scale=x_noise))\n",
    "\n",
    "f, (ax1, ax2) = plt.subplots(2, 1, figsize = (15,5))\n",
    "x = int(true_state - w/2 + 0.5)\n",
    "world = np.copy(doors_img)\n",
    "world[70:70+h,x:x+w][robot_img[:,:,3]==1] = robot_img[robot_img[:,:,3]==1]\n",
    "ax1.imshow(world)\n",
    "ax2.set_ylim([0, 0.25]); ax2.set_xlim([0, n]); ax2.bar(X, belief)"
   ]
  },
  {
   "cell_type": "markdown",
   "metadata": {},
   "source": [
    "### Sense for doors"
   ]
  },
  {
   "cell_type": "code",
   "execution_count": null,
   "metadata": {
    "scrolled": false
   },
   "outputs": [],
   "source": [
    "z = 0.015013100198017304 #get_measurement(true_state)\n",
    "prob = measurement_probability(env_map, z)\n",
    "belief = correct(belief, prob)\n",
    "\n",
    "f, (ax1, ax2, ax3) = plt.subplots(3, 1, figsize = (15,7))\n",
    "x = int(true_state - w/2 + 0.5)\n",
    "world = np.copy(doors_img)\n",
    "world[70:70+h,x:x+w][robot_img[:,:,3]==1] = robot_img[robot_img[:,:,3]==1]\n",
    "ax1.imshow(world)\n",
    "ax2.set_xlim([0, n]); ax2.bar(X, prob)\n",
    "ax3.set_ylim([0, 0.25]); ax3.set_xlim([0, n]); ax3.bar(X, belief)"
   ]
  },
  {
   "cell_type": "markdown",
   "metadata": {},
   "source": [
    "### Move right"
   ]
  },
  {
   "cell_type": "code",
   "execution_count": null,
   "metadata": {},
   "outputs": [],
   "source": [
    "u = 200\n",
    "true_state += u\n",
    "belief = predict(belief, env_map, u + np.random.normal(scale=x_noise))\n",
    "\n",
    "f, (ax1, ax2) = plt.subplots(2, 1, figsize = (15,5))\n",
    "x = int(true_state - w/2 + 0.5)\n",
    "world = np.copy(doors_img)\n",
    "world[70:70+h,x:x+w][robot_img[:,:,3]==1] = robot_img[robot_img[:,:,3]==1]\n",
    "ax1.imshow(world)\n",
    "ax2.set_ylim([0, 0.25]); ax2.set_xlim([0, n]); ax2.bar(X, belief)"
   ]
  },
  {
   "cell_type": "markdown",
   "metadata": {},
   "source": [
    "### Sense for doors"
   ]
  },
  {
   "cell_type": "code",
   "execution_count": null,
   "metadata": {},
   "outputs": [],
   "source": [
    "z = 0.018461221294540399 #get_measurement(true_state)\n",
    "prob = measurement_probability(env_map, z)\n",
    "belief = correct(belief, prob)\n",
    "\n",
    "f, (ax1, ax2, ax3) = plt.subplots(3, 1, figsize = (15,7))\n",
    "x = int(true_state - w/2 + 0.5)\n",
    "world = np.copy(doors_img)\n",
    "world[70:70+h,x:x+w][robot_img[:,:,3]==1] = robot_img[robot_img[:,:,3]==1]\n",
    "ax1.imshow(world)\n",
    "ax2.set_xlim([0, n]); ax2.bar(X, prob)\n",
    "ax3.set_ylim([0, 0.25]); ax3.set_xlim([0, n]); ax3.bar(X, belief)"
   ]
  },
  {
   "cell_type": "markdown",
   "metadata": {},
   "source": [
    "### Move right"
   ]
  },
  {
   "cell_type": "code",
   "execution_count": null,
   "metadata": {},
   "outputs": [],
   "source": [
    "u = 300\n",
    "true_state += u\n",
    "belief = predict(belief, env_map, u + np.random.normal(scale=x_noise))\n",
    "\n",
    "f, (ax1, ax2) = plt.subplots(2, 1, figsize = (15,5))\n",
    "x = int(true_state - w/2 + 0.5)\n",
    "world = np.copy(doors_img)\n",
    "world[70:70+h,x:x+w][robot_img[:,:,3]==1] = robot_img[robot_img[:,:,3]==1]\n",
    "ax1.imshow(world)\n",
    "ax2.set_ylim([0, 0.25]); ax2.set_xlim([0, n]); ax2.bar(X, belief)"
   ]
  },
  {
   "cell_type": "markdown",
   "metadata": {},
   "source": [
    "### Sense for doors"
   ]
  },
  {
   "cell_type": "code",
   "execution_count": null,
   "metadata": {},
   "outputs": [],
   "source": [
    "z = 0.0044673532993354101 # get_measurement(true_state)\n",
    "prob = measurement_probability(env_map, z)\n",
    "belief = correct(belief, prob)\n",
    "\n",
    "f, (ax1, ax2, ax3) = plt.subplots(3, 1, figsize = (15,7))\n",
    "x = int(true_state - w/2 + 0.5)\n",
    "world = np.copy(doors_img)\n",
    "world[70:70+h,x:x+w][robot_img[:,:,3]==1] = robot_img[robot_img[:,:,3]==1]\n",
    "ax1.imshow(world)\n",
    "ax2.set_xlim([0, n]); ax2.bar(X, prob)\n",
    "ax3.set_ylim([0, 0.25]); ax3.set_xlim([0, n]); ax3.bar(X, belief)"
   ]
  }
 ],
 "metadata": {
  "kernelspec": {
   "display_name": "Python 2",
   "language": "python",
   "name": "python2"
  },
  "language_info": {
   "codemirror_mode": {
    "name": "ipython",
    "version": 2
   },
   "file_extension": ".py",
   "mimetype": "text/x-python",
   "name": "python",
   "nbconvert_exporter": "python",
   "pygments_lexer": "ipython2",
   "version": "2.7.6"
  }
 },
 "nbformat": 4,
 "nbformat_minor": 2
}
